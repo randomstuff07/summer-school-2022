{
  "nbformat": 4,
  "nbformat_minor": 0,
  "metadata": {
    "colab": {
      "name": "bs21b001.ipynb",
      "provenance": [],
      "collapsed_sections": []
    },
    "kernelspec": {
      "name": "python3",
      "display_name": "Python 3"
    },
    "language_info": {
      "name": "python"
    }
  },
  "cells": [
    {
      "cell_type": "code",
      "execution_count": 2,
      "metadata": {
        "colab": {
          "base_uri": "https://localhost:8080/"
        },
        "id": "YBSkUipuka6t",
        "outputId": "114c2468-00b0-45f2-a20e-3f0e2c71c1c0"
      },
      "outputs": [
        {
          "output_type": "stream",
          "name": "stdout",
          "text": [
            "Enter a message: heloo\n",
            "Enter cipher index: 79\n",
            "Message: heloo\n",
            "Secret: ppmfi\n",
            "Decrypted message: heloo\n"
          ]
        }
      ],
      "source": [
        "base_key = \"abcdefghijklmnopqrstuvwxyz\"\n",
        "\n",
        "def cipher_key(shift):\n",
        "  shift = shift % 26\n",
        "  cipher = base_key[shift:] + base_key[:shift]\n",
        "  return cipher\n",
        "\n",
        "def inv_rotn_encrypt(message, index):\n",
        "\n",
        "  cip_key = cipher_key(index)\n",
        "  i = int\n",
        "  i = 0\n",
        "  mes_len = int(len(message)) \n",
        "  #print(cip_key)\n",
        "  \n",
        "  sec1 = \"\"\n",
        "  for i in range(mes_len):\n",
        "    string_index = int(ord(message[i]))\n",
        "    real_index = string_index - 97\n",
        "    sec1 = sec1 + cip_key[real_index]\n",
        "    i = i + 1\n",
        "\n",
        "  sec1 = sec1[::-1]\n",
        "  return sec1\n",
        "  \n",
        "def inv_rotn_decrypt(secret, index):\n",
        "  cip_key = cipher_key(index)\n",
        "  secret = secret[::-1]\n",
        "  sec_len = len(secret)\n",
        "  i = int\n",
        "  i = 0\n",
        "  \n",
        "  decrypt = \"\"\n",
        "\n",
        "  for i in range(sec_len):\n",
        "    d_index = cip_key.find(secret[i])\n",
        "    decrypt = decrypt + base_key[d_index]\n",
        "    i = i + 1\n",
        "\n",
        "  return decrypt\n",
        "\n",
        "message = input(\"Enter a message: \")\n",
        "index = int(input(\"Enter cipher index: \"))\n",
        "\n",
        "enc_mes = inv_rotn_encrypt(message, index)\n",
        "print(\"Message: \" + message)\n",
        "print(\"Secret: \"+ enc_mes)\n",
        "\n",
        "print(\"Decrypted message: \" + inv_rotn_decrypt(enc_mes, index))\n",
        "\n",
        "\n",
        "\n"
      ]
    },
    {
      "cell_type": "markdown",
      "source": [
        "Inverse ROT-N cipher\n"
      ],
      "metadata": {
        "id": "uDB8wtF_pyn6"
      }
    },
    {
      "cell_type": "code",
      "source": [
        ""
      ],
      "metadata": {
        "id": "DN6EPF7DRHui"
      },
      "execution_count": null,
      "outputs": []
    }
  ]
}